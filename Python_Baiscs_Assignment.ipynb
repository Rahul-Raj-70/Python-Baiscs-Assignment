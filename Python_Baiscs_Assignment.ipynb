{
  "nbformat": 4,
  "nbformat_minor": 0,
  "metadata": {
    "colab": {
      "provenance": []
    },
    "kernelspec": {
      "name": "python3",
      "display_name": "Python 3"
    },
    "language_info": {
      "name": "python"
    }
  },
  "cells": [
    {
      "cell_type": "markdown",
      "source": [
        "**Q1. Explain the key features of Python that make it a popular choice for programming**.\n",
        "\n",
        "Ans: Python's syntax is clear and resembles natural language, which makes it an excellent choice for beginners.\n",
        "Python is designed to identify data types, generally we do not need to write data type. We can just mention “1” and python understood that this is integer data type.\n",
        "Whenever we run anything incorrect, error massage appears with solution.\n",
        "\n",
        "\n"
      ],
      "metadata": {
        "id": "OkHQkK43R3Co"
      }
    },
    {
      "cell_type": "markdown",
      "source": [
        "**Q2.Describe the role of predefined keywords in Python and provide examples of how they are used in a program**.\n",
        "\n",
        "Ans: There are specific job of python keyword, there are different meening of keywords in python\n",
        "for example -"
      ],
      "metadata": {
        "id": "qDQ0juLDT32I"
      }
    },
    {
      "cell_type": "code",
      "source": [
        "x = 3\n",
        "if x > 1:\n",
        "  print(\"eligible\")\n",
        "else:\n",
        "  print(\"not eligible\")\n"
      ],
      "metadata": {
        "colab": {
          "base_uri": "https://localhost:8080/"
        },
        "id": "ig416oRtVpuG",
        "outputId": "f0812486-fda4-4279-f303-8105038a9b34"
      },
      "execution_count": 4,
      "outputs": [
        {
          "output_type": "stream",
          "name": "stdout",
          "text": [
            "eligible\n"
          ]
        }
      ]
    },
    {
      "cell_type": "markdown",
      "source": [
        "**Q3. Compare and contrast mutable and immutable objects in Python with examples**.\n",
        "\n",
        "Ans: In simple languase we can say that mutable objects can we modified however immutable objects can't be modified once it's defined.\n",
        "\n",
        "For examle -"
      ],
      "metadata": {
        "id": "GaTRm48lW7um"
      }
    },
    {
      "cell_type": "code",
      "source": [
        "# Mutable example - List\n",
        "\n",
        "mylist = [1,2,3,4,0]\n",
        "mylist[4] = 5\n",
        "print(mylist)"
      ],
      "metadata": {
        "colab": {
          "base_uri": "https://localhost:8080/"
        },
        "id": "3bBrnGG_aQha",
        "outputId": "d00bde93-5462-4fbb-9575-b10c8aa433ee"
      },
      "execution_count": 13,
      "outputs": [
        {
          "output_type": "stream",
          "name": "stdout",
          "text": [
            "[1, 2, 3, 4, 5]\n"
          ]
        }
      ]
    },
    {
      "cell_type": "code",
      "source": [
        "# immutable - String\n",
        "\n",
        "name = \"Rahul Raj\"\n",
        "name[1] = \"Choudhary\"\n",
        "print(name)"
      ],
      "metadata": {
        "colab": {
          "base_uri": "https://localhost:8080/",
          "height": 193
        },
        "id": "8zKlfmGdemMi",
        "outputId": "4f511ed7-a173-48de-bb24-daf1433a9796"
      },
      "execution_count": 17,
      "outputs": [
        {
          "output_type": "error",
          "ename": "TypeError",
          "evalue": "'str' object does not support item assignment",
          "traceback": [
            "\u001b[0;31m---------------------------------------------------------------------------\u001b[0m",
            "\u001b[0;31mTypeError\u001b[0m                                 Traceback (most recent call last)",
            "\u001b[0;32m<ipython-input-17-3b60cb2310eb>\u001b[0m in \u001b[0;36m<cell line: 0>\u001b[0;34m()\u001b[0m\n\u001b[1;32m      2\u001b[0m \u001b[0;34m\u001b[0m\u001b[0m\n\u001b[1;32m      3\u001b[0m \u001b[0mname\u001b[0m \u001b[0;34m=\u001b[0m \u001b[0;34m\"Rahul Raj\"\u001b[0m\u001b[0;34m\u001b[0m\u001b[0;34m\u001b[0m\u001b[0m\n\u001b[0;32m----> 4\u001b[0;31m \u001b[0mname\u001b[0m\u001b[0;34m[\u001b[0m\u001b[0;36m1\u001b[0m\u001b[0;34m]\u001b[0m \u001b[0;34m=\u001b[0m \u001b[0;34m\"Choudhary\"\u001b[0m\u001b[0;34m\u001b[0m\u001b[0;34m\u001b[0m\u001b[0m\n\u001b[0m\u001b[1;32m      5\u001b[0m \u001b[0mprint\u001b[0m\u001b[0;34m(\u001b[0m\u001b[0mname\u001b[0m\u001b[0;34m)\u001b[0m\u001b[0;34m\u001b[0m\u001b[0;34m\u001b[0m\u001b[0m\n",
            "\u001b[0;31mTypeError\u001b[0m: 'str' object does not support item assignment"
          ]
        }
      ]
    },
    {
      "cell_type": "markdown",
      "source": [
        "**Q4. Discuss the different types of operators in Python and provide examples of how they are used.**\n",
        "\n",
        "Ans:\n",
        "1. Arithemetica operators - These operators perform mathematical operations. ex - Add, susb, multiple etc.\n",
        "2. comparision operators - These operators compare two values and return a Boolean result. ex- greater than, lest than, equal etc.\n",
        "3.Logical Operators - These operators are used to combine conditional statements. ex - and, or etc.\n",
        "4. Assignment Operators - These operators are used to assign values to variables. ex- =.\n",
        "etc."
      ],
      "metadata": {
        "id": "FRipB2SMfJVu"
      }
    },
    {
      "cell_type": "markdown",
      "source": [
        "**Q5. Explain the concept of type casting in Python with examples.**\n",
        "\n",
        "Ans: Type casting the process of converting a variable from one data type to another. There are two types of it Implicit Type Casting and Explicit Type Casting.\n",
        "For ex-"
      ],
      "metadata": {
        "id": "amg-GbKwh31k"
      }
    },
    {
      "cell_type": "code",
      "source": [
        "#example of Implicit\n",
        "x = 21\n",
        "x = str(x)\n",
        "print(type(x))"
      ],
      "metadata": {
        "id": "GfZMJUTdyVS7",
        "outputId": "a77743ce-0f81-4baf-fcf2-7f07274fbf07",
        "colab": {
          "base_uri": "https://localhost:8080/"
        }
      },
      "execution_count": 2,
      "outputs": [
        {
          "output_type": "stream",
          "name": "stdout",
          "text": [
            "<class 'str'>\n"
          ]
        }
      ]
    },
    {
      "cell_type": "markdown",
      "source": [
        "**Q6. How do conditional statements work in Python? Illustrate with examples.**\n",
        "\n",
        "Ans: Conditional statements in Python allow you to execute specific blocks of code based on certain conditions. for ex-\n"
      ],
      "metadata": {
        "id": "vHnZZkLx0-ha"
      }
    },
    {
      "cell_type": "code",
      "source": [
        "# Ex- if\n",
        "\n",
        "PW_Placement = 250\n",
        "if PW_Placement > 249:\n",
        "  print(\"PW is emotion\")"
      ],
      "metadata": {
        "id": "cv1P54G71QxB",
        "outputId": "a6212d3b-2f9a-49f9-ae7b-32e54a1be307",
        "colab": {
          "base_uri": "https://localhost:8080/"
        }
      },
      "execution_count": 4,
      "outputs": [
        {
          "output_type": "stream",
          "name": "stdout",
          "text": [
            "PW is emotion\n"
          ]
        }
      ]
    },
    {
      "cell_type": "code",
      "source": [
        "# Ex- else\n",
        "\n",
        "PW_Placement = 50\n",
        "if PW_Placement > 249:\n",
        "  print(\"PW is emotion\")\n",
        "else:\n",
        "  print(\"why PW\")\n",
        "\n"
      ],
      "metadata": {
        "id": "Y2OyYv-q1qw6",
        "outputId": "26bc893e-377b-4042-88d3-d50415496941",
        "colab": {
          "base_uri": "https://localhost:8080/"
        }
      },
      "execution_count": 5,
      "outputs": [
        {
          "output_type": "stream",
          "name": "stdout",
          "text": [
            "why PW\n"
          ]
        }
      ]
    },
    {
      "cell_type": "markdown",
      "source": [
        "**Q7. Describe the different types of loops in Python and their use cases with examples.**\n",
        "\n",
        "Ans: In Python, loops are used to execute a block of code repeatedly."
      ],
      "metadata": {
        "id": "nYoxZlH429HE"
      }
    },
    {
      "cell_type": "code",
      "source": [
        "Classes = [\"English\", \"Bio\", \"Math\"]\n",
        "for Class in Classes:\n",
        "    print(Class)"
      ],
      "metadata": {
        "id": "mdZKg06G3X1D",
        "outputId": "87887d8f-eda6-453e-e87f-e2c1de669b5f",
        "colab": {
          "base_uri": "https://localhost:8080/"
        }
      },
      "execution_count": 10,
      "outputs": [
        {
          "output_type": "stream",
          "name": "stdout",
          "text": [
            "English\n",
            "Bio\n",
            "Math\n"
          ]
        }
      ]
    }
  ]
}